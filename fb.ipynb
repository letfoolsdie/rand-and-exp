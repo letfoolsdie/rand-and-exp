{
 "cells": [
  {
   "cell_type": "code",
   "execution_count": 1,
   "metadata": {
    "collapsed": true
   },
   "outputs": [],
   "source": [
    "def apk(actual, predicted, k=10):\n",
    "    \"\"\"\n",
    "    Computes the average precision at k.\n",
    "    This function computes the average prescision at k between two lists of\n",
    "    items.\n",
    "    Parameters\n",
    "    ----------\n",
    "    actual : list\n",
    "             A list of elements that are to be predicted (order doesn't matter)\n",
    "    predicted : list\n",
    "                A list of predicted elements (order does matter)\n",
    "    k : int, optional\n",
    "        The maximum number of predicted elements\n",
    "    Returns\n",
    "    -------\n",
    "    score : double\n",
    "            The average precision at k over the input lists\n",
    "    \"\"\"\n",
    "    if len(predicted)>k:\n",
    "        predicted = predicted[:k]\n",
    "\n",
    "    score = 0.0\n",
    "    num_hits = 0.0\n",
    "\n",
    "    for i,p in enumerate(predicted):\n",
    "        if p in actual and p not in predicted[:i]:\n",
    "            num_hits += 1.0\n",
    "            score += num_hits / (i+1.0)\n",
    "\n",
    "    if not actual:\n",
    "        return 0.0\n",
    "\n",
    "    return score / min(len(actual), k)\n",
    "\n",
    "def mapk(actual, predicted, k=10):\n",
    "    \"\"\"\n",
    "    Computes the mean average precision at k.\n",
    "    This function computes the mean average prescision at k between two lists\n",
    "    of lists of items.\n",
    "    Parameters\n",
    "    ----------\n",
    "    actual : list\n",
    "             A list of lists of elements that are to be predicted \n",
    "             (order doesn't matter in the lists)\n",
    "    predicted : list\n",
    "                A list of lists of predicted elements\n",
    "                (order matters in the lists)\n",
    "    k : int, optional\n",
    "        The maximum number of predicted elements\n",
    "    Returns\n",
    "    -------\n",
    "    score : double\n",
    "            The mean average precision at k over the input lists\n",
    "    \"\"\"\n",
    "    return np.mean([apk(a,p,k) for a,p in zip(actual, predicted)])"
   ]
  },
  {
   "cell_type": "code",
   "execution_count": 2,
   "metadata": {
    "collapsed": false
   },
   "outputs": [],
   "source": [
    "import pandas as pd\n",
    "import numpy as np\n",
    "# import ml_metrics as metrics\n",
    "%matplotlib inline"
   ]
  },
  {
   "cell_type": "code",
   "execution_count": 3,
   "metadata": {
    "collapsed": true
   },
   "outputs": [],
   "source": [
    "df = pd.read_csv('train.csv')"
   ]
  },
  {
   "cell_type": "code",
   "execution_count": 4,
   "metadata": {
    "collapsed": false
   },
   "outputs": [
    {
     "data": {
      "text/html": [
       "<div>\n",
       "<table border=\"1\" class=\"dataframe\">\n",
       "  <thead>\n",
       "    <tr style=\"text-align: right;\">\n",
       "      <th></th>\n",
       "      <th>row_id</th>\n",
       "      <th>x</th>\n",
       "      <th>y</th>\n",
       "      <th>accuracy</th>\n",
       "      <th>time</th>\n",
       "      <th>place_id</th>\n",
       "    </tr>\n",
       "  </thead>\n",
       "  <tbody>\n",
       "    <tr>\n",
       "      <th>0</th>\n",
       "      <td>0</td>\n",
       "      <td>0.7941</td>\n",
       "      <td>9.0809</td>\n",
       "      <td>54</td>\n",
       "      <td>470702</td>\n",
       "      <td>8523065625</td>\n",
       "    </tr>\n",
       "    <tr>\n",
       "      <th>1</th>\n",
       "      <td>1</td>\n",
       "      <td>5.9567</td>\n",
       "      <td>4.7968</td>\n",
       "      <td>13</td>\n",
       "      <td>186555</td>\n",
       "      <td>1757726713</td>\n",
       "    </tr>\n",
       "    <tr>\n",
       "      <th>2</th>\n",
       "      <td>2</td>\n",
       "      <td>8.3078</td>\n",
       "      <td>7.0407</td>\n",
       "      <td>74</td>\n",
       "      <td>322648</td>\n",
       "      <td>1137537235</td>\n",
       "    </tr>\n",
       "    <tr>\n",
       "      <th>3</th>\n",
       "      <td>3</td>\n",
       "      <td>7.3665</td>\n",
       "      <td>2.5165</td>\n",
       "      <td>65</td>\n",
       "      <td>704587</td>\n",
       "      <td>6567393236</td>\n",
       "    </tr>\n",
       "    <tr>\n",
       "      <th>4</th>\n",
       "      <td>4</td>\n",
       "      <td>4.0961</td>\n",
       "      <td>1.1307</td>\n",
       "      <td>31</td>\n",
       "      <td>472130</td>\n",
       "      <td>7440663949</td>\n",
       "    </tr>\n",
       "  </tbody>\n",
       "</table>\n",
       "</div>"
      ],
      "text/plain": [
       "   row_id       x       y  accuracy    time    place_id\n",
       "0       0  0.7941  9.0809        54  470702  8523065625\n",
       "1       1  5.9567  4.7968        13  186555  1757726713\n",
       "2       2  8.3078  7.0407        74  322648  1137537235\n",
       "3       3  7.3665  2.5165        65  704587  6567393236\n",
       "4       4  4.0961  1.1307        31  472130  7440663949"
      ]
     },
     "execution_count": 4,
     "metadata": {},
     "output_type": "execute_result"
    }
   ],
   "source": [
    "df.head()"
   ]
  },
  {
   "cell_type": "code",
   "execution_count": 5,
   "metadata": {
    "collapsed": false
   },
   "outputs": [
    {
     "data": {
      "text/plain": [
       "<matplotlib.axes._subplots.AxesSubplot at 0x8f0f048>"
      ]
     },
     "execution_count": 5,
     "metadata": {},
     "output_type": "execute_result"
    },
    {
     "data": {
      "image/png": "[encoded data removed]",
      "text/plain": [
       "<matplotlib.figure.Figure at 0x8efe0f0>"
      ]
     },
     "metadata": {},
     "output_type": "display_data"
    }
   ],
   "source": [
    "df.accuracy.hist(bins=64)"
   ]
  },
  {
   "cell_type": "code",
   "execution_count": 6,
   "metadata": {
    "collapsed": false
   },
   "outputs": [
    {
     "data": {
      "text/plain": [
       "108390"
      ]
     },
     "execution_count": 6,
     "metadata": {},
     "output_type": "execute_result"
    }
   ],
   "source": [
    "len(df.place_id.value_counts())"
   ]
  },
  {
   "cell_type": "code",
   "execution_count": 7,
   "metadata": {
    "collapsed": false
   },
   "outputs": [
    {
     "data": {
      "text/plain": [
       "<matplotlib.axes._subplots.AxesSubplot at 0x8b50e48>"
      ]
     },
     "execution_count": 7,
     "metadata": {},
     "output_type": "execute_result"
    },
    {
     "data": {
      "image/png": "[encoded data removed]",
      "text/plain": [
       "<matplotlib.figure.Figure at 0x8bfaba8>"
      ]
     },
     "metadata": {},
     "output_type": "display_data"
    }
   ],
   "source": [
    "df.time.hist(bins=24)"
   ]
  },
  {
   "cell_type": "code",
   "execution_count": 8,
   "metadata": {
    "collapsed": false
   },
   "outputs": [
    {
     "data": {
      "text/plain": [
       "(29118021, 6)"
      ]
     },
     "execution_count": 8,
     "metadata": {},
     "output_type": "execute_result"
    }
   ],
   "source": [
    "df.shape"
   ]
  },
  {
   "cell_type": "code",
   "execution_count": 9,
   "metadata": {
    "collapsed": false
   },
   "outputs": [
    {
     "data": {
      "text/plain": [
       "3722"
      ]
     },
     "execution_count": 9,
     "metadata": {},
     "output_type": "execute_result"
    }
   ],
   "source": [
    "len(df.place_id.value_counts()[df.place_id.value_counts() > 1000])"
   ]
  },
  {
   "cell_type": "code",
   "execution_count": 10,
   "metadata": {
    "collapsed": false
   },
   "outputs": [
    {
     "data": {
      "text/plain": [
       "<matplotlib.axes._subplots.AxesSubplot at 0x17d600b8>"
      ]
     },
     "execution_count": 10,
     "metadata": {},
     "output_type": "execute_result"
    },
    {
     "data": {
      "image/png": "[encoded data removed]",
      "text/plain": [
       "<matplotlib.figure.Figure at 0x17d58fd0>"
      ]
     },
     "metadata": {},
     "output_type": "display_data"
    }
   ],
   "source": [
    "df[df.place_id==8772469670].time.hist(bins=36)"
   ]
  },
  {
   "cell_type": "code",
   "execution_count": 11,
   "metadata": {
    "collapsed": false
   },
   "outputs": [
    {
     "data": {
      "text/plain": [
       "<matplotlib.axes._subplots.AxesSubplot at 0x9f82cc0>"
      ]
     },
     "execution_count": 11,
     "metadata": {},
     "output_type": "execute_result"
    },
    {
     "data": {
      "image/png": "[encoded data removed]",
      "text/plain": [
       "<matplotlib.figure.Figure at 0x9f4c5c0>"
      ]
     },
     "metadata": {},
     "output_type": "display_data"
    }
   ],
   "source": [
    "df[df.place_id==9903336130].time.hist(bins=36)"
   ]
  },
  {
   "cell_type": "code",
   "execution_count": 12,
   "metadata": {
    "collapsed": false
   },
   "outputs": [
    {
     "data": {
      "text/plain": [
       "<matplotlib.axes._subplots.AxesSubplot at 0xa035eb8>"
      ]
     },
     "execution_count": 12,
     "metadata": {},
     "output_type": "execute_result"
    },
    {
     "data": {
      "image/png": "[encoded data removed]",
      "text/plain": [
       "<matplotlib.figure.Figure at 0xa0b7978>"
      ]
     },
     "metadata": {},
     "output_type": "display_data"
    }
   ],
   "source": [
    "df[df.place_id==8607353836].time.hist(bins=36)"
   ]
  },
  {
   "cell_type": "code",
   "execution_count": 13,
   "metadata": {
    "collapsed": false
   },
   "outputs": [
    {
     "data": {
      "text/plain": [
       "(29118021, 6)"
      ]
     },
     "execution_count": 13,
     "metadata": {},
     "output_type": "execute_result"
    }
   ],
   "source": [
    "df.shape"
   ]
  },
  {
   "cell_type": "code",
   "execution_count": 56,
   "metadata": {
    "collapsed": false
   },
   "outputs": [],
   "source": [
    "np.random.seed(12)\n",
    "subsample_ind = np.random.randint(0, df.shape[0], 100000)\n",
    "subsample = df.iloc[subsample_ind]"
   ]
  },
  {
   "cell_type": "code",
   "execution_count": 57,
   "metadata": {
    "collapsed": false
   },
   "outputs": [],
   "source": [
    "# df[['x', 'y']].iloc[:1000].plot(x='x', y='y', kind='scatter')"
   ]
  },
  {
   "cell_type": "code",
   "execution_count": 58,
   "metadata": {
    "collapsed": false
   },
   "outputs": [
    {
     "data": {
      "text/plain": [
       "count    108390.000000\n",
       "mean        268.641212\n",
       "std         267.944598\n",
       "min           1.000000\n",
       "25%          98.000000\n",
       "50%         163.000000\n",
       "75%         333.000000\n",
       "max        1849.000000\n",
       "Name: place_id, dtype: float64"
      ]
     },
     "execution_count": 58,
     "metadata": {},
     "output_type": "execute_result"
    }
   ],
   "source": [
    "df.place_id.value_counts().describe()"
   ]
  },
  {
   "cell_type": "code",
   "execution_count": 59,
   "metadata": {
    "collapsed": true
   },
   "outputs": [],
   "source": [
    "from sklearn.cluster import MeanShift"
   ]
  },
  {
   "cell_type": "code",
   "execution_count": 60,
   "metadata": {
    "collapsed": false
   },
   "outputs": [
    {
     "data": {
      "text/plain": [
       "MeanShift(bandwidth=0.1, bin_seeding=False, cluster_all=True, min_bin_freq=1,\n",
       "     n_jobs=1, seeds=None)"
      ]
     },
     "execution_count": 60,
     "metadata": {},
     "output_type": "execute_result"
    }
   ],
   "source": [
    "X = subsample[['x', 'y']]\n",
    "ms = MeanShift(bandwidth=0.1)\n",
    "ms.fit(X)"
   ]
  },
  {
   "cell_type": "code",
   "execution_count": 65,
   "metadata": {
    "collapsed": false
   },
   "outputs": [
    {
     "name": "stderr",
     "output_type": "stream",
     "text": [
      "C:\\Anaconda3\\lib\\site-packages\\ipykernel\\__main__.py:3: SettingWithCopyWarning: \n",
      "A value is trying to be set on a copy of a slice from a DataFrame.\n",
      "Try using .loc[row_indexer,col_indexer] = value instead\n",
      "\n",
      "See the caveats in the documentation: http://pandas.pydata.org/pandas-docs/stable/indexing.html#indexing-view-versus-copy\n",
      "  app.launch_new_instance()\n"
     ]
    },
    {
     "data": {
      "text/html": [
       "<div>\n",
       "<table border=\"1\" class=\"dataframe\">\n",
       "  <thead>\n",
       "    <tr style=\"text-align: right;\">\n",
       "      <th></th>\n",
       "      <th>x</th>\n",
       "      <th>y</th>\n",
       "      <th>labels</th>\n",
       "    </tr>\n",
       "  </thead>\n",
       "  <tbody>\n",
       "    <tr>\n",
       "      <th>24590155</th>\n",
       "      <td>8.8752</td>\n",
       "      <td>6.1102</td>\n",
       "      <td>830</td>\n",
       "    </tr>\n",
       "    <tr>\n",
       "      <th>3905179</th>\n",
       "      <td>2.4074</td>\n",
       "      <td>6.6431</td>\n",
       "      <td>1784</td>\n",
       "    </tr>\n",
       "    <tr>\n",
       "      <th>24372614</th>\n",
       "      <td>5.1033</td>\n",
       "      <td>6.6692</td>\n",
       "      <td>408</td>\n",
       "    </tr>\n",
       "    <tr>\n",
       "      <th>26627325</th>\n",
       "      <td>0.2153</td>\n",
       "      <td>2.1781</td>\n",
       "      <td>157</td>\n",
       "    </tr>\n",
       "    <tr>\n",
       "      <th>23633137</th>\n",
       "      <td>7.5009</td>\n",
       "      <td>9.1634</td>\n",
       "      <td>1418</td>\n",
       "    </tr>\n",
       "  </tbody>\n",
       "</table>\n",
       "</div>"
      ],
      "text/plain": [
       "               x       y  labels\n",
       "24590155  8.8752  6.1102     830\n",
       "3905179   2.4074  6.6431    1784\n",
       "24372614  5.1033  6.6692     408\n",
       "26627325  0.2153  2.1781     157\n",
       "23633137  7.5009  9.1634    1418"
      ]
     },
     "execution_count": 65,
     "metadata": {},
     "output_type": "execute_result"
    }
   ],
   "source": [
    "labels = ms.labels_\n",
    "cluster_centers = ms.cluster_centers_\n",
    "X['labels'] = labels\n",
    "X.head()"
   ]
  },
  {
   "cell_type": "code",
   "execution_count": 70,
   "metadata": {
    "collapsed": false
   },
   "outputs": [
    {
     "data": {
      "text/html": [
       "<div>\n",
       "<table border=\"1\" class=\"dataframe\">\n",
       "  <thead>\n",
       "    <tr style=\"text-align: right;\">\n",
       "      <th></th>\n",
       "      <th>row_id</th>\n",
       "      <th>x</th>\n",
       "      <th>y</th>\n",
       "      <th>accuracy</th>\n",
       "      <th>time</th>\n",
       "      <th>place_id</th>\n",
       "    </tr>\n",
       "  </thead>\n",
       "  <tbody>\n",
       "    <tr>\n",
       "      <th>0</th>\n",
       "      <td>0</td>\n",
       "      <td>0.7941</td>\n",
       "      <td>9.0809</td>\n",
       "      <td>54</td>\n",
       "      <td>470702</td>\n",
       "      <td>8523065625</td>\n",
       "    </tr>\n",
       "    <tr>\n",
       "      <th>1</th>\n",
       "      <td>1</td>\n",
       "      <td>5.9567</td>\n",
       "      <td>4.7968</td>\n",
       "      <td>13</td>\n",
       "      <td>186555</td>\n",
       "      <td>1757726713</td>\n",
       "    </tr>\n",
       "    <tr>\n",
       "      <th>2</th>\n",
       "      <td>2</td>\n",
       "      <td>8.3078</td>\n",
       "      <td>7.0407</td>\n",
       "      <td>74</td>\n",
       "      <td>322648</td>\n",
       "      <td>1137537235</td>\n",
       "    </tr>\n",
       "    <tr>\n",
       "      <th>3</th>\n",
       "      <td>3</td>\n",
       "      <td>7.3665</td>\n",
       "      <td>2.5165</td>\n",
       "      <td>65</td>\n",
       "      <td>704587</td>\n",
       "      <td>6567393236</td>\n",
       "    </tr>\n",
       "    <tr>\n",
       "      <th>4</th>\n",
       "      <td>4</td>\n",
       "      <td>4.0961</td>\n",
       "      <td>1.1307</td>\n",
       "      <td>31</td>\n",
       "      <td>472130</td>\n",
       "      <td>7440663949</td>\n",
       "    </tr>\n",
       "  </tbody>\n",
       "</table>\n",
       "</div>"
      ],
      "text/plain": [
       "   row_id       x       y  accuracy    time    place_id\n",
       "0       0  0.7941  9.0809        54  470702  8523065625\n",
       "1       1  5.9567  4.7968        13  186555  1757726713\n",
       "2       2  8.3078  7.0407        74  322648  1137537235\n",
       "3       3  7.3665  2.5165        65  704587  6567393236\n",
       "4       4  4.0961  1.1307        31  472130  7440663949"
      ]
     },
     "execution_count": 70,
     "metadata": {},
     "output_type": "execute_result"
    }
   ],
   "source": [
    "##find average coordinates for each place:\n",
    "df.head()"
   ]
  },
  {
   "cell_type": "code",
   "execution_count": 72,
   "metadata": {
    "collapsed": false
   },
   "outputs": [
    {
     "data": {
      "text/html": [
       "<div>\n",
       "<table border=\"1\" class=\"dataframe\">\n",
       "  <thead>\n",
       "    <tr style=\"text-align: right;\">\n",
       "      <th></th>\n",
       "      <th>x</th>\n",
       "      <th>y</th>\n",
       "    </tr>\n",
       "    <tr>\n",
       "      <th>place_id</th>\n",
       "      <th></th>\n",
       "      <th></th>\n",
       "    </tr>\n",
       "  </thead>\n",
       "  <tbody>\n",
       "    <tr>\n",
       "      <th>1000015801</th>\n",
       "      <td>2.671644</td>\n",
       "      <td>5.549160</td>\n",
       "    </tr>\n",
       "    <tr>\n",
       "      <th>1000017288</th>\n",
       "      <td>7.336637</td>\n",
       "      <td>4.346527</td>\n",
       "    </tr>\n",
       "    <tr>\n",
       "      <th>1000025138</th>\n",
       "      <td>0.991042</td>\n",
       "      <td>5.570373</td>\n",
       "    </tr>\n",
       "    <tr>\n",
       "      <th>1000052096</th>\n",
       "      <td>2.856777</td>\n",
       "      <td>5.833414</td>\n",
       "    </tr>\n",
       "    <tr>\n",
       "      <th>1000063498</th>\n",
       "      <td>4.054855</td>\n",
       "      <td>7.566078</td>\n",
       "    </tr>\n",
       "    <tr>\n",
       "      <th>1000213704</th>\n",
       "      <td>2.440268</td>\n",
       "      <td>0.843545</td>\n",
       "    </tr>\n",
       "    <tr>\n",
       "      <th>1000383269</th>\n",
       "      <td>2.064636</td>\n",
       "      <td>2.923171</td>\n",
       "    </tr>\n",
       "    <tr>\n",
       "      <th>1000392527</th>\n",
       "      <td>1.670799</td>\n",
       "      <td>3.257805</td>\n",
       "    </tr>\n",
       "    <tr>\n",
       "      <th>1000472949</th>\n",
       "      <td>6.479654</td>\n",
       "      <td>0.929121</td>\n",
       "    </tr>\n",
       "    <tr>\n",
       "      <th>1000474694</th>\n",
       "      <td>6.930106</td>\n",
       "      <td>4.754252</td>\n",
       "    </tr>\n",
       "    <tr>\n",
       "      <th>1000505259</th>\n",
       "      <td>4.319241</td>\n",
       "      <td>2.064194</td>\n",
       "    </tr>\n",
       "    <tr>\n",
       "      <th>1000598674</th>\n",
       "      <td>3.039969</td>\n",
       "      <td>2.565197</td>\n",
       "    </tr>\n",
       "    <tr>\n",
       "      <th>1000616752</th>\n",
       "      <td>5.223789</td>\n",
       "      <td>2.650484</td>\n",
       "    </tr>\n",
       "    <tr>\n",
       "      <th>1000705331</th>\n",
       "      <td>6.675965</td>\n",
       "      <td>6.190369</td>\n",
       "    </tr>\n",
       "    <tr>\n",
       "      <th>1000773040</th>\n",
       "      <td>3.869264</td>\n",
       "      <td>4.290417</td>\n",
       "    </tr>\n",
       "    <tr>\n",
       "      <th>1000808756</th>\n",
       "      <td>8.507332</td>\n",
       "      <td>8.894598</td>\n",
       "    </tr>\n",
       "    <tr>\n",
       "      <th>1000842315</th>\n",
       "      <td>3.681138</td>\n",
       "      <td>0.203200</td>\n",
       "    </tr>\n",
       "    <tr>\n",
       "      <th>1001113605</th>\n",
       "      <td>1.419037</td>\n",
       "      <td>7.908688</td>\n",
       "    </tr>\n",
       "    <tr>\n",
       "      <th>1001184362</th>\n",
       "      <td>4.063897</td>\n",
       "      <td>3.658039</td>\n",
       "    </tr>\n",
       "    <tr>\n",
       "      <th>1001299411</th>\n",
       "      <td>6.473686</td>\n",
       "      <td>3.167995</td>\n",
       "    </tr>\n",
       "    <tr>\n",
       "      <th>1001322574</th>\n",
       "      <td>4.926223</td>\n",
       "      <td>8.123242</td>\n",
       "    </tr>\n",
       "    <tr>\n",
       "      <th>1001545007</th>\n",
       "      <td>5.032370</td>\n",
       "      <td>5.073016</td>\n",
       "    </tr>\n",
       "    <tr>\n",
       "      <th>1001712366</th>\n",
       "      <td>8.993376</td>\n",
       "      <td>1.852286</td>\n",
       "    </tr>\n",
       "    <tr>\n",
       "      <th>1001749677</th>\n",
       "      <td>6.025250</td>\n",
       "      <td>8.669627</td>\n",
       "    </tr>\n",
       "    <tr>\n",
       "      <th>1001771063</th>\n",
       "      <td>6.011649</td>\n",
       "      <td>1.996507</td>\n",
       "    </tr>\n",
       "    <tr>\n",
       "      <th>1001784419</th>\n",
       "      <td>7.271144</td>\n",
       "      <td>5.810203</td>\n",
       "    </tr>\n",
       "    <tr>\n",
       "      <th>1001896116</th>\n",
       "      <td>2.045177</td>\n",
       "      <td>8.402599</td>\n",
       "    </tr>\n",
       "    <tr>\n",
       "      <th>1002348164</th>\n",
       "      <td>8.282559</td>\n",
       "      <td>4.987078</td>\n",
       "    </tr>\n",
       "    <tr>\n",
       "      <th>1002435431</th>\n",
       "      <td>4.173993</td>\n",
       "      <td>9.221214</td>\n",
       "    </tr>\n",
       "    <tr>\n",
       "      <th>1002574526</th>\n",
       "      <td>7.476229</td>\n",
       "      <td>1.326560</td>\n",
       "    </tr>\n",
       "    <tr>\n",
       "      <th>...</th>\n",
       "      <td>...</td>\n",
       "      <td>...</td>\n",
       "    </tr>\n",
       "    <tr>\n",
       "      <th>9998133838</th>\n",
       "      <td>8.218795</td>\n",
       "      <td>7.059425</td>\n",
       "    </tr>\n",
       "    <tr>\n",
       "      <th>9998263538</th>\n",
       "      <td>8.015777</td>\n",
       "      <td>9.540079</td>\n",
       "    </tr>\n",
       "    <tr>\n",
       "      <th>9998318046</th>\n",
       "      <td>6.688175</td>\n",
       "      <td>5.872322</td>\n",
       "    </tr>\n",
       "    <tr>\n",
       "      <th>9998319108</th>\n",
       "      <td>6.264421</td>\n",
       "      <td>3.477623</td>\n",
       "    </tr>\n",
       "    <tr>\n",
       "      <th>9998323806</th>\n",
       "      <td>0.346845</td>\n",
       "      <td>2.463075</td>\n",
       "    </tr>\n",
       "    <tr>\n",
       "      <th>9998333395</th>\n",
       "      <td>9.405001</td>\n",
       "      <td>4.346731</td>\n",
       "    </tr>\n",
       "    <tr>\n",
       "      <th>9998341061</th>\n",
       "      <td>9.474282</td>\n",
       "      <td>6.653844</td>\n",
       "    </tr>\n",
       "    <tr>\n",
       "      <th>9998350819</th>\n",
       "      <td>7.385826</td>\n",
       "      <td>8.451037</td>\n",
       "    </tr>\n",
       "    <tr>\n",
       "      <th>9998409402</th>\n",
       "      <td>6.088165</td>\n",
       "      <td>7.020034</td>\n",
       "    </tr>\n",
       "    <tr>\n",
       "      <th>9998504111</th>\n",
       "      <td>0.114992</td>\n",
       "      <td>4.177359</td>\n",
       "    </tr>\n",
       "    <tr>\n",
       "      <th>9998569135</th>\n",
       "      <td>1.524222</td>\n",
       "      <td>3.229140</td>\n",
       "    </tr>\n",
       "    <tr>\n",
       "      <th>9998580230</th>\n",
       "      <td>0.224319</td>\n",
       "      <td>9.560309</td>\n",
       "    </tr>\n",
       "    <tr>\n",
       "      <th>9998624008</th>\n",
       "      <td>5.162760</td>\n",
       "      <td>8.856000</td>\n",
       "    </tr>\n",
       "    <tr>\n",
       "      <th>9998870613</th>\n",
       "      <td>4.741368</td>\n",
       "      <td>9.559529</td>\n",
       "    </tr>\n",
       "    <tr>\n",
       "      <th>9998968845</th>\n",
       "      <td>2.555457</td>\n",
       "      <td>2.184210</td>\n",
       "    </tr>\n",
       "    <tr>\n",
       "      <th>9999068620</th>\n",
       "      <td>9.513356</td>\n",
       "      <td>1.358648</td>\n",
       "    </tr>\n",
       "    <tr>\n",
       "      <th>9999071926</th>\n",
       "      <td>8.047002</td>\n",
       "      <td>5.480375</td>\n",
       "    </tr>\n",
       "    <tr>\n",
       "      <th>9999115245</th>\n",
       "      <td>3.107851</td>\n",
       "      <td>8.402806</td>\n",
       "    </tr>\n",
       "    <tr>\n",
       "      <th>9999322724</th>\n",
       "      <td>9.408495</td>\n",
       "      <td>7.321237</td>\n",
       "    </tr>\n",
       "    <tr>\n",
       "      <th>9999427517</th>\n",
       "      <td>0.964970</td>\n",
       "      <td>9.748648</td>\n",
       "    </tr>\n",
       "    <tr>\n",
       "      <th>9999431769</th>\n",
       "      <td>2.628170</td>\n",
       "      <td>7.071710</td>\n",
       "    </tr>\n",
       "    <tr>\n",
       "      <th>9999450678</th>\n",
       "      <td>0.598486</td>\n",
       "      <td>1.569987</td>\n",
       "    </tr>\n",
       "    <tr>\n",
       "      <th>9999515258</th>\n",
       "      <td>7.791164</td>\n",
       "      <td>0.765481</td>\n",
       "    </tr>\n",
       "    <tr>\n",
       "      <th>9999639970</th>\n",
       "      <td>1.746494</td>\n",
       "      <td>5.734944</td>\n",
       "    </tr>\n",
       "    <tr>\n",
       "      <th>9999755282</th>\n",
       "      <td>4.689467</td>\n",
       "      <td>2.014530</td>\n",
       "    </tr>\n",
       "    <tr>\n",
       "      <th>9999851158</th>\n",
       "      <td>1.294302</td>\n",
       "      <td>2.452408</td>\n",
       "    </tr>\n",
       "    <tr>\n",
       "      <th>9999855083</th>\n",
       "      <td>1.588983</td>\n",
       "      <td>0.782717</td>\n",
       "    </tr>\n",
       "    <tr>\n",
       "      <th>9999862567</th>\n",
       "      <td>9.156216</td>\n",
       "      <td>6.851457</td>\n",
       "    </tr>\n",
       "    <tr>\n",
       "      <th>9999916757</th>\n",
       "      <td>2.790664</td>\n",
       "      <td>6.462363</td>\n",
       "    </tr>\n",
       "    <tr>\n",
       "      <th>9999932225</th>\n",
       "      <td>5.621093</td>\n",
       "      <td>8.244076</td>\n",
       "    </tr>\n",
       "  </tbody>\n",
       "</table>\n",
       "<p>108390 rows × 2 columns</p>\n",
       "</div>"
      ],
      "text/plain": [
       "                   x         y\n",
       "place_id                      \n",
       "1000015801  2.671644  5.549160\n",
       "1000017288  7.336637  4.346527\n",
       "1000025138  0.991042  5.570373\n",
       "1000052096  2.856777  5.833414\n",
       "1000063498  4.054855  7.566078\n",
       "1000213704  2.440268  0.843545\n",
       "1000383269  2.064636  2.923171\n",
       "1000392527  1.670799  3.257805\n",
       "1000472949  6.479654  0.929121\n",
       "1000474694  6.930106  4.754252\n",
       "1000505259  4.319241  2.064194\n",
       "1000598674  3.039969  2.565197\n",
       "1000616752  5.223789  2.650484\n",
       "1000705331  6.675965  6.190369\n",
       "1000773040  3.869264  4.290417\n",
       "1000808756  8.507332  8.894598\n",
       "1000842315  3.681138  0.203200\n",
       "1001113605  1.419037  7.908688\n",
       "1001184362  4.063897  3.658039\n",
       "1001299411  6.473686  3.167995\n",
       "1001322574  4.926223  8.123242\n",
       "1001545007  5.032370  5.073016\n",
       "1001712366  8.993376  1.852286\n",
       "1001749677  6.025250  8.669627\n",
       "1001771063  6.011649  1.996507\n",
       "1001784419  7.271144  5.810203\n",
       "1001896116  2.045177  8.402599\n",
       "1002348164  8.282559  4.987078\n",
       "1002435431  4.173993  9.221214\n",
       "1002574526  7.476229  1.326560\n",
       "...              ...       ...\n",
       "9998133838  8.218795  7.059425\n",
       "9998263538  8.015777  9.540079\n",
       "9998318046  6.688175  5.872322\n",
       "9998319108  6.264421  3.477623\n",
       "9998323806  0.346845  2.463075\n",
       "9998333395  9.405001  4.346731\n",
       "9998341061  9.474282  6.653844\n",
       "9998350819  7.385826  8.451037\n",
       "9998409402  6.088165  7.020034\n",
       "9998504111  0.114992  4.177359\n",
       "9998569135  1.524222  3.229140\n",
       "9998580230  0.224319  9.560309\n",
       "9998624008  5.162760  8.856000\n",
       "9998870613  4.741368  9.559529\n",
       "9998968845  2.555457  2.184210\n",
       "9999068620  9.513356  1.358648\n",
       "9999071926  8.047002  5.480375\n",
       "9999115245  3.107851  8.402806\n",
       "9999322724  9.408495  7.321237\n",
       "9999427517  0.964970  9.748648\n",
       "9999431769  2.628170  7.071710\n",
       "9999450678  0.598486  1.569987\n",
       "9999515258  7.791164  0.765481\n",
       "9999639970  1.746494  5.734944\n",
       "9999755282  4.689467  2.014530\n",
       "9999851158  1.294302  2.452408\n",
       "9999855083  1.588983  0.782717\n",
       "9999862567  9.156216  6.851457\n",
       "9999916757  2.790664  6.462363\n",
       "9999932225  5.621093  8.244076\n",
       "\n",
       "[108390 rows x 2 columns]"
      ]
     },
     "execution_count": 72,
     "metadata": {},
     "output_type": "execute_result"
    }
   ],
   "source": [
    "places = df[['x', 'y', 'place_id']].groupby(['place_id']).mean()\n",
    "places"
   ]
  },
  {
   "cell_type": "code",
   "execution_count": 82,
   "metadata": {
    "collapsed": false
   },
   "outputs": [
    {
     "data": {
      "text/html": [
       "<div>\n",
       "<table border=\"1\" class=\"dataframe\">\n",
       "  <thead>\n",
       "    <tr style=\"text-align: right;\">\n",
       "      <th></th>\n",
       "      <th>x</th>\n",
       "      <th>y</th>\n",
       "    </tr>\n",
       "    <tr>\n",
       "      <th>place_id</th>\n",
       "      <th></th>\n",
       "      <th></th>\n",
       "    </tr>\n",
       "  </thead>\n",
       "  <tbody>\n",
       "    <tr>\n",
       "      <th>1000015801</th>\n",
       "      <td>2.671644</td>\n",
       "      <td>5.549160</td>\n",
       "    </tr>\n",
       "    <tr>\n",
       "      <th>1000017288</th>\n",
       "      <td>7.336637</td>\n",
       "      <td>4.346527</td>\n",
       "    </tr>\n",
       "    <tr>\n",
       "      <th>1000025138</th>\n",
       "      <td>0.991042</td>\n",
       "      <td>5.570373</td>\n",
       "    </tr>\n",
       "    <tr>\n",
       "      <th>1000052096</th>\n",
       "      <td>2.856777</td>\n",
       "      <td>5.833414</td>\n",
       "    </tr>\n",
       "    <tr>\n",
       "      <th>1000063498</th>\n",
       "      <td>4.054855</td>\n",
       "      <td>7.566078</td>\n",
       "    </tr>\n",
       "  </tbody>\n",
       "</table>\n",
       "</div>"
      ],
      "text/plain": [
       "                   x         y\n",
       "place_id                      \n",
       "1000015801  2.671644  5.549160\n",
       "1000017288  7.336637  4.346527\n",
       "1000025138  0.991042  5.570373\n",
       "1000052096  2.856777  5.833414\n",
       "1000063498  4.054855  7.566078"
      ]
     },
     "execution_count": 82,
     "metadata": {},
     "output_type": "execute_result"
    }
   ],
   "source": [
    "# places['place_id'] = places.index\n",
    "# places.drop(['place_id'], axis=1, inplace=True)\n",
    "places.head()"
   ]
  },
  {
   "cell_type": "code",
   "execution_count": 86,
   "metadata": {
    "collapsed": false
   },
   "outputs": [],
   "source": [
    "places.reset_index(inplace=True)"
   ]
  },
  {
   "cell_type": "code",
   "execution_count": 87,
   "metadata": {
    "collapsed": false
   },
   "outputs": [
    {
     "data": {
      "text/html": [
       "<div>\n",
       "<table border=\"1\" class=\"dataframe\">\n",
       "  <thead>\n",
       "    <tr style=\"text-align: right;\">\n",
       "      <th></th>\n",
       "      <th>place_id</th>\n",
       "      <th>x</th>\n",
       "      <th>y</th>\n",
       "    </tr>\n",
       "  </thead>\n",
       "  <tbody>\n",
       "    <tr>\n",
       "      <th>0</th>\n",
       "      <td>1000015801</td>\n",
       "      <td>2.671644</td>\n",
       "      <td>5.549160</td>\n",
       "    </tr>\n",
       "    <tr>\n",
       "      <th>1</th>\n",
       "      <td>1000017288</td>\n",
       "      <td>7.336637</td>\n",
       "      <td>4.346527</td>\n",
       "    </tr>\n",
       "    <tr>\n",
       "      <th>2</th>\n",
       "      <td>1000025138</td>\n",
       "      <td>0.991042</td>\n",
       "      <td>5.570373</td>\n",
       "    </tr>\n",
       "    <tr>\n",
       "      <th>3</th>\n",
       "      <td>1000052096</td>\n",
       "      <td>2.856777</td>\n",
       "      <td>5.833414</td>\n",
       "    </tr>\n",
       "    <tr>\n",
       "      <th>4</th>\n",
       "      <td>1000063498</td>\n",
       "      <td>4.054855</td>\n",
       "      <td>7.566078</td>\n",
       "    </tr>\n",
       "  </tbody>\n",
       "</table>\n",
       "</div>"
      ],
      "text/plain": [
       "     place_id         x         y\n",
       "0  1000015801  2.671644  5.549160\n",
       "1  1000017288  7.336637  4.346527\n",
       "2  1000025138  0.991042  5.570373\n",
       "3  1000052096  2.856777  5.833414\n",
       "4  1000063498  4.054855  7.566078"
      ]
     },
     "execution_count": 87,
     "metadata": {},
     "output_type": "execute_result"
    }
   ],
   "source": [
    "places.head()"
   ]
  },
  {
   "cell_type": "code",
   "execution_count": 88,
   "metadata": {
    "collapsed": true
   },
   "outputs": [],
   "source": [
    "from sklearn.neighbors import KNeighborsClassifier\n",
    "clf = KNeighborsClassifier(n_neighbors=1)\n"
   ]
  },
  {
   "cell_type": "code",
   "execution_count": 89,
   "metadata": {
    "collapsed": false
   },
   "outputs": [
    {
     "data": {
      "text/plain": [
       "KNeighborsClassifier(algorithm='auto', leaf_size=30, metric='minkowski',\n",
       "           metric_params=None, n_jobs=1, n_neighbors=1, p=2,\n",
       "           weights='uniform')"
      ]
     },
     "execution_count": 89,
     "metadata": {},
     "output_type": "execute_result"
    }
   ],
   "source": [
    "clf.fit(places[['x', 'y']], places.place_id)"
   ]
  },
  {
   "cell_type": "code",
   "execution_count": null,
   "metadata": {
    "collapsed": true
   },
   "outputs": [],
   "source": [
    "preds = clf.predict"
   ]
  }
 ],
 "metadata": {
  "kernelspec": {
   "display_name": "Python 3",
   "language": "python",
   "name": "python3"
  },
  "language_info": {
   "codemirror_mode": {
    "name": "ipython",
    "version": 3
   },
   "file_extension": ".py",
   "mimetype": "text/x-python",
   "name": "python",
   "nbconvert_exporter": "python",
   "pygments_lexer": "ipython3",
   "version": "3.5.1"
  }
 },
 "nbformat": 4,
 "nbformat_minor": 0
}
